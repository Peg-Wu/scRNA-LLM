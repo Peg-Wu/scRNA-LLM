{
 "cells": [
  {
   "cell_type": "code",
   "execution_count": null,
   "metadata": {},
   "outputs": [],
   "source": [
    "import sys\n",
    "sys.path.append(\"../../src\")\n",
    "\n",
    "import os\n",
    "os.environ[\"CUDA_VISIBLE_DEVICES\"] = \"6, 7\"\n",
    "\n",
    "import evaluate\n",
    "import numpy as np\n",
    "from datasets import load_from_disk\n",
    "from stella import STELLADataCollatorV1\n",
    "from stella.models import STELLAForSequenceClassification\n",
    "from transformers import set_seed, Trainer, TrainingArguments\n",
    "from stella.tokenizer import TranscriptomeTokenizerForCellClassification\n",
    "\n",
    "set_seed(seed=42)"
   ]
  },
  {
   "cell_type": "markdown",
   "metadata": {},
   "source": [
    "### 1. Tokenize your adata\n",
    "\n",
    "- Notice: gene symbol should be in `adata.var_names`"
   ]
  },
  {
   "cell_type": "code",
   "execution_count": null,
   "metadata": {},
   "outputs": [],
   "source": [
    "tokenizer = TranscriptomeTokenizerForCellClassification(\n",
    "    seed=42,\n",
    "    nproc=8,\n",
    "    max_length=2048,\n",
    "    custom_attr_name_dict={\"celltype\": \"celltype\"}\n",
    ")"
   ]
  },
  {
   "cell_type": "code",
   "execution_count": null,
   "metadata": {},
   "outputs": [],
   "source": [
    "ds = tokenizer(\n",
    "    h5ad_file=\"./zheng68k/zheng68k.h5ad\",  # your h5ad file path\n",
    "    save_dir=\"./tokenized_zheng68k\"  # save your tokenized dataset\n",
    ")"
   ]
  },
  {
   "cell_type": "markdown",
   "metadata": {},
   "source": [
    "### 2. If you have already tokenized your data, load it directly instead of tokenizing it again."
   ]
  },
  {
   "cell_type": "code",
   "execution_count": null,
   "metadata": {},
   "outputs": [],
   "source": [
    "ds = load_from_disk(\"./tokenized_zheng68k\")\n",
    "ds"
   ]
  },
  {
   "cell_type": "markdown",
   "metadata": {},
   "source": [
    "### 3. Process celltype labels"
   ]
  },
  {
   "cell_type": "code",
   "execution_count": null,
   "metadata": {},
   "outputs": [],
   "source": [
    "# unique celltype\n",
    "uniq_ct = np.unique(ds[\"celltype\"]).tolist()\n",
    "\n",
    "# celltype: label_id\n",
    "ct2label = dict(zip(uniq_ct, range(len(uniq_ct))))\n",
    "\n",
    "def process_func(example):\n",
    "    example[\"labels\"] = ct2label[example[\"celltype\"]]\n",
    "    return example\n",
    "\n",
    "ds = ds.map(process_func, num_proc=8, remove_columns=[\"celltype\"])\n",
    "ds = ds.class_encode_column(\"labels\")"
   ]
  },
  {
   "cell_type": "markdown",
   "metadata": {},
   "source": [
    "### 4. Split the dataset into a training set, a validation set, and a test set"
   ]
  },
  {
   "cell_type": "code",
   "execution_count": null,
   "metadata": {},
   "outputs": [],
   "source": [
    "ds = ds.shuffle(seed=42)\n",
    "\n",
    "train_test_split = ds.train_test_split(test_size=0.2, seed=42, stratify_by_column=\"labels\")\n",
    "train_ds, test_ds = train_test_split[\"train\"], train_test_split[\"test\"]\n",
    "\n",
    "train_validation_split = train_ds.train_test_split(test_size=0.1, seed=42, stratify_by_column=\"labels\")\n",
    "train_ds, validation_ds = train_validation_split[\"train\"], train_validation_split[\"test\"]\n",
    "\n",
    "# train_size, validation_size, test_size\n",
    "train_ds.shape[0], validation_ds.shape[0], test_ds.shape[0]"
   ]
  },
  {
   "cell_type": "markdown",
   "metadata": {},
   "source": [
    "### 5. Load Pretrained Model"
   ]
  },
  {
   "cell_type": "code",
   "execution_count": null,
   "metadata": {},
   "outputs": [],
   "source": [
    "model = STELLAForSequenceClassification.from_pretrained(\n",
    "    \"../../pretrained_models/B100_L2048\", \n",
    "    num_labels=len(ct2label)\n",
    ")"
   ]
  },
  {
   "cell_type": "markdown",
   "metadata": {},
   "source": [
    "### 6. If you don't have enough GPU memory, try freezing some layers"
   ]
  },
  {
   "cell_type": "code",
   "execution_count": null,
   "metadata": {},
   "outputs": [],
   "source": [
    "def freeze_first_k_layers(k=4):\n",
    "    for name, param in model.named_parameters():\n",
    "        if any(f\"stella.encoder.layer.{i}\" in name for i in range(k)):\n",
    "            param.requires_grad = False\n",
    "\n",
    "# freeze the first k layers\n",
    "freeze_first_k_layers(k=0)  # no freeze\n",
    "\n",
    "# check the trainable status of the parameters\n",
    "for name, params in model.named_parameters():\n",
    "    print(name, \"\\t\", params.requires_grad)"
   ]
  },
  {
   "cell_type": "markdown",
   "metadata": {},
   "source": [
    "### 7. Start Training"
   ]
  },
  {
   "cell_type": "code",
   "execution_count": null,
   "metadata": {
    "collapsed": true,
    "jupyter": {
     "outputs_hidden": true
    }
   },
   "outputs": [],
   "source": [
    "training_args = TrainingArguments(\n",
    "    seed=42,\n",
    "    output_dir=\"./celltype_annotation\",\n",
    "    report_to=\"tensorboard\",\n",
    "    logging_steps=10,\n",
    "    eval_strategy=\"epoch\",\n",
    "    save_strategy=\"epoch\",\n",
    "    load_best_model_at_end=True,\n",
    "    metric_for_best_model=\"f1\",\n",
    "    gradient_accumulation_steps=1,\n",
    "    num_train_epochs=10,\n",
    "    per_device_train_batch_size=16,\n",
    "    per_device_eval_batch_size=64,\n",
    "    learning_rate=1e-4,\n",
    "    lr_scheduler_type=\"cosine\",\n",
    "    warmup_ratio=0.03,\n",
    "    weight_decay=0,\n",
    "    max_grad_norm=1.0,\n",
    "    optim=\"adamw_torch\",\n",
    "    bf16=True,\n",
    "    dataloader_pin_memory=True,\n",
    "    dataloader_num_workers=8,\n",
    "    dataloader_persistent_workers=True,\n",
    "    ddp_find_unused_parameters=False,\n",
    "    gradient_checkpointing=False,\n",
    ")\n",
    "\n",
    "\n",
    "clf_metrics = evaluate.combine(\n",
    "    [\n",
    "        \"../../src/stella/metrics/accuracy\",\n",
    "        \"../../src/stella/metrics/precision\",\n",
    "        \"../../src/stella/metrics/recall\",\n",
    "        \"../../src/stella/metrics/f1\",\n",
    "    ]\n",
    ")\n",
    "\n",
    "\n",
    "def compute_metrics(pred):\n",
    "    labels = pred.label_ids\n",
    "    preds = pred.predictions.argmax(-1)\n",
    "    return clf_metrics.compute(predictions=preds, references=labels)\n",
    "\n",
    "\n",
    "trainer = Trainer(\n",
    "    model=model,\n",
    "    args=training_args,\n",
    "    data_collator=STELLADataCollatorV1,\n",
    "    train_dataset=train_ds,\n",
    "    eval_dataset=validation_ds,\n",
    "    compute_metrics=compute_metrics,\n",
    ")"
   ]
  },
  {
   "cell_type": "code",
   "execution_count": null,
   "metadata": {},
   "outputs": [],
   "source": [
    "# Start training\n",
    "trainer.train()"
   ]
  },
  {
   "cell_type": "code",
   "execution_count": null,
   "metadata": {},
   "outputs": [],
   "source": [
    "# Performance on validation dataset\n",
    "trainer.evaluate(validation_ds)"
   ]
  },
  {
   "cell_type": "code",
   "execution_count": null,
   "metadata": {},
   "outputs": [],
   "source": [
    "# Performance on test dataset\n",
    "trainer.predict(test_ds)"
   ]
  },
  {
   "cell_type": "code",
   "execution_count": null,
   "metadata": {},
   "outputs": [],
   "source": []
  }
 ],
 "metadata": {
  "kernelspec": {
   "display_name": "scphd",
   "language": "python",
   "name": "python3"
  },
  "language_info": {
   "codemirror_mode": {
    "name": "ipython",
    "version": 3
   },
   "file_extension": ".py",
   "mimetype": "text/x-python",
   "name": "python",
   "nbconvert_exporter": "python",
   "pygments_lexer": "ipython3",
   "version": "3.10.16"
  }
 },
 "nbformat": 4,
 "nbformat_minor": 4
}
