{
 "cells": [
  {
   "cell_type": "markdown",
   "id": "7a8af87c",
   "metadata": {},
   "source": [
    "- STELLA GRN Tutorial\n",
    "\n",
    "    - harness STELLA gene embedding to predict celltype-specific tfs.\n",
    "\n",
    "    - refer to https://github.com/biomap-research/scFoundation/blob/main/genemodule/plot_geneemb.ipynb"
   ]
  },
  {
   "cell_type": "code",
   "execution_count": null,
   "id": "8c488437",
   "metadata": {},
   "outputs": [],
   "source": [
    "import sys\n",
    "sys.path.append(\"../../src\")\n",
    "\n",
    "import torch\n",
    "import random\n",
    "import pickle\n",
    "import numpy as np\n",
    "import pandas as pd\n",
    "import scanpy as sc\n",
    "\n",
    "from tqdm.auto import tqdm\n",
    "from stella import STELLADataCollatorV1\n",
    "from torch.utils.data import DataLoader\n",
    "from stella.tokenizer import Preprocessor\n",
    "from sklearn.metrics.pairwise import cosine_similarity\n",
    "from stella.models.modeling_stella import STELLAForMaskedLM\n",
    "\n",
    "random.seed(42)"
   ]
  },
  {
   "cell_type": "markdown",
   "id": "1f5d0de4",
   "metadata": {},
   "source": [
    "### Step 1: Load Pretrained STELLA."
   ]
  },
  {
   "cell_type": "code",
   "execution_count": null,
   "id": "9ee2ebe9",
   "metadata": {},
   "outputs": [],
   "source": [
    "model = STELLAForMaskedLM.from_pretrained(\"../../pretrained_models/B100_L2048\")"
   ]
  },
  {
   "cell_type": "markdown",
   "id": "933bef15",
   "metadata": {},
   "source": [
    "### Step 2: Load adata, and select celltypes you are interested in.\n",
    "\n",
    "- For each cell type, we randomly select n (default: n=100) cells for forward propagation."
   ]
  },
  {
   "cell_type": "code",
   "execution_count": null,
   "id": "1ec22b5b",
   "metadata": {},
   "outputs": [],
   "source": [
    "adata = sc.read_h5ad(\"/fse/home/wupengpeng/process_data/zheng68k/zheng68k.h5ad\")"
   ]
  },
  {
   "cell_type": "code",
   "execution_count": null,
   "id": "ab3ed431",
   "metadata": {},
   "outputs": [],
   "source": [
    "# 'CD8+ Cytotoxic T', 'CD14+ Monocyte', 'CD19+ B', every cell type randomly select n samples\n",
    "n = 100\n",
    "query_celltypes = [\"CD8+ Cytotoxic T\", \"CD14+ Monocyte\", \"CD19+ B\"]\n",
    "\n",
    "# sample procedure\n",
    "selected_samples = {\n",
    "    ct: random.sample(list(barcodes), k=min(n, len(barcodes)))\n",
    "    for ct, barcodes in adata.obs.groupby(\"celltype\", observed=True).groups.items()\n",
    "    if ct in query_celltypes\n",
    "}\n",
    "\n",
    "selected_samples_barcodes = sum(list(selected_samples.values()), [])\n",
    "\n",
    "# extract selected samples\n",
    "selected_adata = adata[selected_samples_barcodes].copy()\n",
    "\n",
    "# filter all-zero expression genes\n",
    "selected_gene = selected_adata.X.sum(0) > 0\n",
    "selected_adata = selected_adata[:, selected_gene].copy()\n",
    "\n",
    "# filter genes not in vocab\n",
    "with open(\"../../src/stella/gene2id.pkl\", \"rb\") as f:\n",
    "    gene2idx = pickle.load(f)\n",
    "\n",
    "selected_adata = selected_adata[:, selected_adata.var_names.isin(gene2idx.keys())].copy()\n",
    "\n",
    "# save\n",
    "selected_adata.to_df().to_csv(\"./grn_data/adata_subset.csv\")\n",
    "selected_adata.obs.celltype.to_csv(\"./grn_data/adata_subset_celltype.csv\")"
   ]
  },
  {
   "cell_type": "code",
   "execution_count": null,
   "id": "d4b00eeb",
   "metadata": {},
   "outputs": [],
   "source": [
    "# view the number of selected cells for each cell type\n",
    "selected_adata.obs[\"celltype\"].value_counts()"
   ]
  },
  {
   "cell_type": "markdown",
   "id": "1e8e14a0",
   "metadata": {},
   "source": [
    "### Step 3: Find tf genes in `selected_adata`."
   ]
  },
  {
   "cell_type": "code",
   "execution_count": null,
   "id": "b0cb3481",
   "metadata": {},
   "outputs": [],
   "source": [
    "TF = pd.read_csv('./grn_data/allTFs_hg38.txt', header=None).values.T[0]\n",
    "\n",
    "tfs_in_selected_adata = [x for x in TF if x in selected_adata.var_names]\n",
    "print(f\"There are {len(tfs_in_selected_adata)} tfs in all {len(selected_adata.var_names)} genes. (Total tfs: {len(TF)})\")"
   ]
  },
  {
   "cell_type": "markdown",
   "id": "65b0e356",
   "metadata": {},
   "source": [
    "### Step 4: Retrieve gene embeddings from STELLA."
   ]
  },
  {
   "cell_type": "code",
   "execution_count": null,
   "id": "842c57e1",
   "metadata": {},
   "outputs": [],
   "source": [
    "# preprocess selected_adata\n",
    "preprocessor = Preprocessor(\n",
    "    filter_gene_by_counts=False,\n",
    "    filter_cell_by_counts=False,\n",
    "    select_genes_mode=\"specify\",\n",
    "    gene_list=selected_adata.var_names\n",
    ")\n",
    "\n",
    "selected_adata = preprocessor(selected_adata)\n",
    "ds = preprocessor.get_hf_dataset_from_adata(selected_adata)"
   ]
  },
  {
   "cell_type": "code",
   "execution_count": null,
   "id": "8f1e4d02",
   "metadata": {},
   "outputs": [],
   "source": [
    "# set device, if you do not have enough gpu memory, try using cpu!\n",
    "device = torch.device(\"cuda:3\" if torch.cuda.is_available() else \"cpu\")\n",
    "model = model.to(device)\n",
    "\n",
    "dl = DataLoader(ds, batch_size=8, shuffle=False, collate_fn=STELLADataCollatorV1)\n",
    "\n",
    "model.eval()\n",
    "all_outputs = []\n",
    "with torch.no_grad():\n",
    "    for batch in tqdm(dl):\n",
    "        batch = {k: v.to(device) for k, v in batch.items()}\n",
    "        outputs = model.stella(**batch, output_hidden_states=True)\n",
    "        all_outputs.append(outputs.last_hidden_state.detach().cpu().numpy())\n",
    "        torch.cuda.empty_cache()"
   ]
  },
  {
   "cell_type": "code",
   "execution_count": null,
   "id": "3e16e53d",
   "metadata": {},
   "outputs": [],
   "source": [
    "# rearrange outputs, then get gene embedding\n",
    "gene_embs = np.concatenate(all_outputs, axis=0).mean(0)\n",
    "gene_embs = pd.DataFrame(gene_embs, index=selected_adata.var_names)"
   ]
  },
  {
   "cell_type": "markdown",
   "id": "6761fa4d",
   "metadata": {},
   "source": [
    "### Step 5: Calculate the cosine similarity between transcription factors and other genes."
   ]
  },
  {
   "cell_type": "code",
   "execution_count": null,
   "id": "4502ad1a",
   "metadata": {},
   "outputs": [],
   "source": [
    "n_candidate_target_genes = 1000\n",
    "\n",
    "coexplist=[]\n",
    "for tf in tqdm(tfs_in_selected_adata):\n",
    "    tmpsim = cosine_similarity(gene_embs.loc[tf, :].values.reshape(1,-1), gene_embs)\n",
    "    tmpsim[tmpsim > 0.9999] = 0\n",
    "    tmpsimdf = pd.DataFrame(tmpsim, columns=selected_adata.var_names, index=['simi']).T\n",
    "    tmpsimdf = tmpsimdf.sort_values('simi', ascending=False)\n",
    "    for idx in range(n_candidate_target_genes):\n",
    "        coexplist.append([tf, tmpsimdf.index[idx], tmpsimdf.iloc[idx, 0] * 100])"
   ]
  },
  {
   "cell_type": "code",
   "execution_count": null,
   "id": "f1df64fa",
   "metadata": {},
   "outputs": [],
   "source": [
    "grndf = pd.DataFrame(coexplist, columns=['TF', 'target', 'importance'])\n",
    "grndf.to_csv('./grn_data/scf_grn_1000.tsv', index=False, sep='\\t')\n",
    "grndf.head()"
   ]
  },
  {
   "cell_type": "markdown",
   "id": "fc1a9be5",
   "metadata": {},
   "source": [
    "### Step 6: Predicting cell type specific transcription factors using pySCENIC.\n",
    "\n",
    "- Since ​​pySCENIC​​ has compatibility issues, the subsequent code can be run in ​​a new conda environment​​.\n",
    "\n",
    "- Requirements:\n",
    "\n",
    "    - notebook\n",
    "\n",
    "    - pyscenic\n",
    "\n",
    "    - pandas\n",
    "\n",
    "    - matplotlib\n",
    "\n",
    "    - seaborn\n",
    "\n",
    "    - adjustText\n",
    "\n",
    "    - numpy == 1.23.5\n",
    "\n",
    "    - numba == 0.59.0"
   ]
  },
  {
   "cell_type": "code",
   "execution_count": null,
   "id": "a416d267",
   "metadata": {},
   "outputs": [],
   "source": [
    "!wget -P grn_data https://resources.aertslab.org/cistarget/databases/homo_sapiens/hg38/refseq_r80/mc_v10_clust/gene_based/hg38_10kbp_up_10kbp_down_full_tx_v10_clust.genes_vs_motifs.rankings.feather\n",
    "!wget -P grn_data https://resources.aertslab.org/cistarget/motif2tf/motifs-v10nr_clust-nr.hgnc-m0.001-o0.0.tbl"
   ]
  },
  {
   "cell_type": "code",
   "execution_count": null,
   "id": "7050c631",
   "metadata": {},
   "outputs": [],
   "source": [
    "!pyscenic ctx \\\n",
    "    ./grn_data/scf_grn_1000.tsv \\\n",
    "    ./grn_data/hg38_10kbp_up_10kbp_down_full_tx_v10_clust.genes_vs_motifs.rankings.feather \\\n",
    "    --annotations_fname ./grn_data/motifs-v10nr_clust-nr.hgnc-m0.001-o0.0.tbl \\\n",
    "    --expression_mtx_fname ./grn_data/adata_subset.csv \\\n",
    "    --output ./grn_data/regulons_1000.csv \\\n",
    "    --mask_dropouts \\\n",
    "    --num_workers 16\n",
    "\n",
    "# !docker run -it --rm -v /fse/home/wupengpeng/STELLA/tutorials/02_GRN/:/GRN/ aertslab/pyscenic:0.12.1 \\\n",
    "#     pyscenic ctx \\\n",
    "#     /GRN/grn_data/scf_grn_1000.tsv \\\n",
    "#     /GRN/grn_data/hg38_10kbp_up_10kbp_down_full_tx_v10_clust.genes_vs_motifs.rankings.feather \\\n",
    "#     --annotations_fname /GRN/grn_data/motifs-v10nr_clust-nr.hgnc-m0.001-o0.0.tbl \\\n",
    "#     --expression_mtx_fname /GRN/grn_data/adata_subset.csv \\\n",
    "#     --output /GRN/grn_data/regulons_1000.csv \\\n",
    "#     --mask_dropouts \\\n",
    "#     --num_workers 16"
   ]
  },
  {
   "cell_type": "code",
   "execution_count": null,
   "id": "1a436f86",
   "metadata": {},
   "outputs": [],
   "source": [
    "!pyscenic aucell \\\n",
    "    ./grn_data/adata_subset.csv \\\n",
    "    ./grn_data/regulons_1000.csv \\\n",
    "    -o ./grn_data/auc_mtx_1000.csv \\\n",
    "    --num_workers 16\n",
    "\n",
    "# !docker run -it --rm -v /fse/home/wupengpeng/STELLA/tutorials/02_GRN/:/GRN/ aertslab/pyscenic:0.12.1 \\\n",
    "#     pyscenic aucell \\\n",
    "#     /GRN/grn_data/adata_subset.csv \\\n",
    "#     /GRN/grn_data/regulons_1000.csv \\\n",
    "#     -o /GRN/grn_data/auc_mtx_1000.csv \\\n",
    "#     --num_workers 16"
   ]
  },
  {
   "cell_type": "code",
   "execution_count": null,
   "id": "28770832",
   "metadata": {},
   "outputs": [],
   "source": [
    "import pandas as pd\n",
    "import matplotlib.pyplot as plt\n",
    "\n",
    "from adjustText import adjust_text\n",
    "from pyscenic.plotting import plot_rss\n",
    "from pyscenic.rss import regulon_specificity_scores"
   ]
  },
  {
   "cell_type": "markdown",
   "id": "2fa85f39",
   "metadata": {},
   "source": [
    "- Calculate RSS score"
   ]
  },
  {
   "cell_type": "code",
   "execution_count": null,
   "id": "8e894aac",
   "metadata": {},
   "outputs": [],
   "source": [
    "auc_mtx = pd.read_csv(\"./grn_data/auc_mtx_1000.csv\", index_col=0)\n",
    "celltype = pd.read_csv(\"./grn_data/adata_subset_celltype.csv\", index_col=0)\n",
    "\n",
    "# calculate regulon specificity scores\n",
    "rss_cellType = regulon_specificity_scores(auc_mtx, celltype.celltype)\n",
    "rss_cellType.to_csv(\"./grn_data/RSS.csv\")\n",
    "rss_cellType"
   ]
  },
  {
   "cell_type": "markdown",
   "id": "5e9dfe01",
   "metadata": {},
   "source": [
    "- Plot"
   ]
  },
  {
   "cell_type": "code",
   "execution_count": null,
   "id": "d7ce8663",
   "metadata": {},
   "outputs": [],
   "source": [
    "cats = sorted(list(set(celltype.celltype)))\n",
    "\n",
    "fig = plt.figure(figsize=(15, 5))\n",
    "for c, num in zip(cats, range(1, len(cats) + 1)):\n",
    "    x = rss_cellType.T[c]\n",
    "    ax = fig.add_subplot(1, 3, num)\n",
    "    plot_rss(rss_cellType, c, top_n=3, max_n=None, ax=ax)\n",
    "    ax.set_ylim(\n",
    "        x.min() - (x.max() - x.min()) * 0.05, x.max() + (x.max() - x.min()) * 0.05\n",
    "    )\n",
    "    for t in ax.texts:\n",
    "        t.set_fontsize(12)\n",
    "    ax.set_ylabel(\"\")\n",
    "    ax.set_xlabel(\"\")\n",
    "    adjust_text(\n",
    "        ax.texts,\n",
    "        autoalign=\"xy\",\n",
    "        ha=\"right\",\n",
    "        va=\"bottom\",\n",
    "        arrowprops=dict(arrowstyle=\"-\", color=\"lightgrey\"),\n",
    "        precision=0.001,\n",
    "    )\n",
    "\n",
    "fig.text(0.5, 0.0, \"Regulon\", ha=\"center\", va=\"center\", size=\"x-large\")\n",
    "fig.text(\n",
    "    0.00,\n",
    "    0.5,\n",
    "    \"Regulon specificity score (RSS)\",\n",
    "    ha=\"center\",\n",
    "    va=\"center\",\n",
    "    rotation=\"vertical\",\n",
    "    size=\"x-large\",\n",
    ")\n",
    "plt.tight_layout()\n",
    "plt.rcParams.update(\n",
    "    {\n",
    "        \"figure.autolayout\": True,\n",
    "        \"figure.titlesize\": \"large\",\n",
    "        \"axes.labelsize\": \"medium\",\n",
    "        \"axes.titlesize\": \"large\",\n",
    "        \"xtick.labelsize\": \"medium\",\n",
    "        \"ytick.labelsize\": \"medium\",\n",
    "    }\n",
    ")\n",
    "plt.rcParams[\"pdf.fonttype\"] = 42\n",
    "plt.rcParams[\"ps.fonttype\"] = 42\n",
    "plt.savefig(\"RSS.pdf\", bbox_inches=\"tight\")"
   ]
  },
  {
   "cell_type": "code",
   "execution_count": null,
   "id": "457e3b62",
   "metadata": {},
   "outputs": [],
   "source": []
  }
 ],
 "metadata": {
  "kernelspec": {
   "display_name": "pyscenic",
   "language": "python",
   "name": "python3"
  },
  "language_info": {
   "codemirror_mode": {
    "name": "ipython",
    "version": 3
   },
   "file_extension": ".py",
   "mimetype": "text/x-python",
   "name": "python",
   "nbconvert_exporter": "python",
   "pygments_lexer": "ipython3",
   "version": "3.10.16"
  }
 },
 "nbformat": 4,
 "nbformat_minor": 5
}
