{
 "cells": [
  {
   "cell_type": "markdown",
   "id": "38d2d645",
   "metadata": {},
   "source": [
    "- STELLA GRN Tutorial\n",
    "\n",
    "    - extract gene programs from gene embedding network.\n",
    "\n",
    "        - identify cell type marker gene programs.\n",
    "\n",
    "        - investigating the correlations between genes within gene programs of interest.\n",
    "\n",
    "    - refer to https://github.com/biomap-research/scFoundation/blob/main/genemodule/plot_geneemb.ipynb"
   ]
  },
  {
   "cell_type": "code",
   "execution_count": null,
   "id": "9a596646",
   "metadata": {},
   "outputs": [],
   "source": [
    "import sys\n",
    "sys.path.append(\"../../src\")\n",
    "\n",
    "import torch\n",
    "import random\n",
    "import pickle\n",
    "import warnings\n",
    "import collections\n",
    "import numpy as np\n",
    "import pandas as pd\n",
    "import scanpy as sc\n",
    "import networkx as nx\n",
    "import matplotlib as mpl\n",
    "import matplotlib.pyplot as plt\n",
    "\n",
    "from tqdm.auto import tqdm\n",
    "from matplotlib import rcParams\n",
    "from stella import STELLADataCollatorV1\n",
    "from torch.utils.data import DataLoader\n",
    "from stella.tokenizer import Preprocessor\n",
    "from sklearn.preprocessing import MinMaxScaler\n",
    "from sklearn.metrics.pairwise import cosine_similarity\n",
    "from stella.models.modeling_stella import STELLAForMaskedLM\n",
    "\n",
    "random.seed(42)\n",
    "\n",
    "warnings.filterwarnings(\"ignore\")"
   ]
  },
  {
   "cell_type": "markdown",
   "id": "34853170",
   "metadata": {},
   "source": [
    "### Step 1: Load Pretrained STELLA."
   ]
  },
  {
   "cell_type": "code",
   "execution_count": null,
   "id": "331f05a8",
   "metadata": {},
   "outputs": [],
   "source": [
    "model = STELLAForMaskedLM.from_pretrained(\"../../pretrained_models/B100_L2048\")"
   ]
  },
  {
   "cell_type": "markdown",
   "id": "325ce87e",
   "metadata": {},
   "source": [
    "### Step 2: Load adata, and select celltypes you are interested in.\n",
    "\n",
    "- For each cell type, we randomly select n (default: n=100) cells for forward propagation."
   ]
  },
  {
   "cell_type": "code",
   "execution_count": null,
   "id": "9344174d",
   "metadata": {},
   "outputs": [],
   "source": [
    "adata = sc.read_h5ad(\"/fse/home/wupengpeng/process_data/zheng68k/zheng68k.h5ad\")"
   ]
  },
  {
   "cell_type": "code",
   "execution_count": null,
   "id": "b6998067",
   "metadata": {},
   "outputs": [],
   "source": [
    "# 'CD8+ Cytotoxic T', 'CD14+ Monocyte', 'CD19+ B', every cell type randomly select n samples\n",
    "n = 100\n",
    "query_celltypes = [\"CD8+ Cytotoxic T\", \"CD14+ Monocyte\", \"CD19+ B\"]\n",
    "\n",
    "# sample procedure\n",
    "selected_samples = {\n",
    "    ct: random.sample(list(barcodes), k=min(n, len(barcodes)))\n",
    "    for ct, barcodes in adata.obs.groupby(\"celltype\", observed=True).groups.items()\n",
    "    if ct in query_celltypes\n",
    "}\n",
    "\n",
    "selected_samples_barcodes = sum(list(selected_samples.values()), [])\n",
    "\n",
    "# extract selected samples\n",
    "selected_adata = adata[selected_samples_barcodes].copy()\n",
    "\n",
    "# filter all-zero expression genes\n",
    "selected_gene = selected_adata.X.sum(0) > 0\n",
    "selected_adata = selected_adata[:, selected_gene].copy()\n",
    "\n",
    "# filter genes not in vocab\n",
    "with open(\"../../src/stella/gene2id.pkl\", \"rb\") as f:\n",
    "    gene2idx = pickle.load(f)\n",
    "\n",
    "selected_adata = selected_adata[:, selected_adata.var_names.isin(gene2idx.keys())].copy()"
   ]
  },
  {
   "cell_type": "code",
   "execution_count": null,
   "id": "03df2e28",
   "metadata": {},
   "outputs": [],
   "source": [
    "# view the number of selected cells for each cell type\n",
    "selected_adata.obs[\"celltype\"].value_counts()"
   ]
  },
  {
   "cell_type": "markdown",
   "id": "2c42aa71",
   "metadata": {},
   "source": [
    "### Step 3: Retrieve gene embeddings from STELLA."
   ]
  },
  {
   "cell_type": "code",
   "execution_count": null,
   "id": "7c8caef7",
   "metadata": {},
   "outputs": [],
   "source": [
    "# preprocess selected_adata\n",
    "preprocessor = Preprocessor(\n",
    "    filter_gene_by_counts=False,\n",
    "    filter_cell_by_counts=False,\n",
    "    select_genes_mode=\"hvg\",\n",
    "    nhvgs=300\n",
    ")\n",
    "\n",
    "# before processing, we need to back up a copy of the unprocessed data\n",
    "unprocessed_selected_adata = selected_adata.copy()\n",
    "# do normalization and log1p on unprocessed data, without binning gene expression\n",
    "preprocessor.normalize_and_log1p(unprocessed_selected_adata)\n",
    "\n",
    "# data after binning is used to extract gene embeddings\n",
    "selected_adata = preprocessor(selected_adata)\n",
    "ds = preprocessor.get_hf_dataset_from_adata(selected_adata)"
   ]
  },
  {
   "cell_type": "code",
   "execution_count": null,
   "id": "f4db19ae",
   "metadata": {},
   "outputs": [],
   "source": [
    "# set device, if you do not have enough gpu memory, try using cpu!\n",
    "device = torch.device(\"cuda:3\" if torch.cuda.is_available() else \"cpu\")\n",
    "model = model.to(device)\n",
    "\n",
    "dl = DataLoader(ds, batch_size=128, shuffle=False, collate_fn=STELLADataCollatorV1)\n",
    "\n",
    "model.eval()\n",
    "all_outputs = []\n",
    "with torch.no_grad():\n",
    "    for batch in tqdm(dl):\n",
    "        batch = {k: v.to(device) for k, v in batch.items()}\n",
    "        outputs = model.stella(**batch, output_hidden_states=True)\n",
    "        all_outputs.append(outputs.last_hidden_state.detach().cpu().numpy())\n",
    "        torch.cuda.empty_cache()"
   ]
  },
  {
   "cell_type": "code",
   "execution_count": null,
   "id": "699255e5",
   "metadata": {},
   "outputs": [],
   "source": [
    "# rearrange outputs, then get gene embedding\n",
    "gene_embs = np.concatenate(all_outputs, axis=0).mean(0)\n",
    "gene_embs = pd.DataFrame(gene_embs, index=selected_adata.var_names)"
   ]
  },
  {
   "cell_type": "markdown",
   "id": "f31f5c55",
   "metadata": {},
   "source": [
    "### Step 4: Construct gene_adata (genes x embeddings), then cluter these genes to get gene programs."
   ]
  },
  {
   "cell_type": "code",
   "execution_count": null,
   "id": "83f3270a",
   "metadata": {},
   "outputs": [],
   "source": [
    "gene_adata = sc.AnnData(gene_embs)\n",
    "sc.pp.neighbors(gene_adata, use_rep=\"X\")\n",
    "sc.tl.umap(gene_adata)\n",
    "sc.tl.leiden(gene_adata, resolution=5)\n",
    "sc.pl.umap(gene_adata, color=\"leiden\")"
   ]
  },
  {
   "cell_type": "code",
   "execution_count": null,
   "id": "fd25d9fd",
   "metadata": {},
   "outputs": [],
   "source": [
    "# The function is modified from https://github.com/bowang-lab/scGPT\n",
    "def get_metagenes(gdata):\n",
    "    metagenes = collections.defaultdict(list)\n",
    "    for x, y in zip(gdata.obs[\"leiden\"], gdata.obs.index):\n",
    "        metagenes[x].append(y)\n",
    "    return metagenes\n",
    "\n",
    "metagenes = get_metagenes(gene_adata)\n",
    "\n",
    "# Obtain the set of gene programs from clusters with #genes >= 5\n",
    "mgs = dict()\n",
    "for mg, genes in metagenes.items():\n",
    "    if len(genes) > 4:\n",
    "        mgs[mg] = genes"
   ]
  },
  {
   "cell_type": "markdown",
   "id": "5950c17d",
   "metadata": {},
   "source": [
    "### Step 5: Calculate the score of all gene programs in each cell."
   ]
  },
  {
   "cell_type": "code",
   "execution_count": null,
   "id": "d7880d9c",
   "metadata": {},
   "outputs": [],
   "source": [
    "# The function is modified from https://github.com/bowang-lab/scGPT\n",
    "def score_metagenes(adata, metagenes):\n",
    "    for p, genes in tqdm(metagenes.items()):\n",
    "        try:\n",
    "            sc.tl.score_genes(adata, score_name=str(p) + \"_SCORE\", gene_list=genes)\n",
    "            scores = np.array(adata.obs[str(p) + \"_SCORE\"].tolist()).reshape(-1, 1)\n",
    "            scaler = MinMaxScaler()\n",
    "            scores = scaler.fit_transform(scores)\n",
    "            scores = list(scores.reshape(1, -1))[0]\n",
    "            adata.obs[str(p) + \"_SCORE\"] = scores\n",
    "        except Exception as e:\n",
    "            adata.obs[str(p) + \"_SCORE\"] = 0.0\n",
    "\n",
    "# Here, ​​unprocessed_selected_adata​​ is used,\n",
    "# because binning the data would significantly reduce the heterogeneity between genes.\n",
    "score_metagenes(unprocessed_selected_adata,mgs)"
   ]
  },
  {
   "cell_type": "markdown",
   "id": "9396936c",
   "metadata": {},
   "source": [
    "- construct genescoreadata (cells x gene_programs_score), and find cell type marker gene programs."
   ]
  },
  {
   "cell_type": "code",
   "execution_count": null,
   "id": "532a3f76",
   "metadata": {},
   "outputs": [],
   "source": [
    "scorelist = [x for x in unprocessed_selected_adata.obs.columns if x.__contains__(\"SCORE\")]\n",
    "genescoreadata = sc.AnnData(unprocessed_selected_adata.obs[scorelist])\n",
    "genescoreadata.obs[\"celltype\"] = unprocessed_selected_adata.obs[\"celltype\"]\n",
    "sc.tl.rank_genes_groups(genescoreadata, groupby=\"celltype\")"
   ]
  },
  {
   "cell_type": "code",
   "execution_count": null,
   "id": "f93427b7",
   "metadata": {},
   "outputs": [],
   "source": [
    "# plot\n",
    "rcParams[\"pdf.fonttype\"] = 42\n",
    "rcParams[\"ps.fonttype\"] = 42\n",
    "sc.pl.rank_genes_groups_matrixplot(\n",
    "    genescoreadata,\n",
    "    n_genes=3,\n",
    "    standard_scale=\"var\",\n",
    "    cmap=\"Blues\",\n",
    "    show=False\n",
    ")\n",
    "plt.savefig(\"matrixplot_genemodule.png\", bbox_inches=\"tight\", dpi=300)\n",
    "plt.show()"
   ]
  },
  {
   "cell_type": "code",
   "execution_count": null,
   "id": "08cf8e74",
   "metadata": {},
   "outputs": [],
   "source": [
    "print(mgs['23'],'\\n',mgs['17'],'\\n',mgs['24'])"
   ]
  },
  {
   "cell_type": "markdown",
   "id": "0c6f9717",
   "metadata": {},
   "source": [
    "### Step 6: Visualize network connectivity within desired gene program\n",
    "\n",
    "We can further visualize the connectivity between genes within any gene program of interest from Step 5"
   ]
  },
  {
   "cell_type": "code",
   "execution_count": null,
   "id": "a1eaeddb",
   "metadata": {},
   "outputs": [],
   "source": [
    "gene_programs = mgs[\"23\"]\n",
    "gene_programs_embs = gene_embs.loc[gene_programs].copy()"
   ]
  },
  {
   "cell_type": "code",
   "execution_count": null,
   "id": "fca41b3b",
   "metadata": {},
   "outputs": [],
   "source": [
    "# The function is modified from https://github.com/bowang-lab/scGPT\n",
    "G = nx.Graph()\n",
    "similarities = cosine_similarity(gene_programs_embs)\n",
    "genes = list(gene_programs_embs.index.values)\n",
    "similarities[similarities > 0.9999] = 0\n",
    "\n",
    "edges = []\n",
    "nz = list(zip(*similarities.nonzero()))\n",
    "for n in tqdm(nz):\n",
    "    edges.append((genes[n[0]], genes[n[1]], {\"weight\": similarities[n[0], n[1]]}))\n",
    "G.add_nodes_from(genes)\n",
    "G.add_edges_from(edges)\n",
    "\n",
    "widths = nx.get_edge_attributes(G, \"weight\")\n",
    "weightvalue = np.array(list(widths.values()))\n",
    "scaled_weightvalue = (\n",
    "    (weightvalue - weightvalue.min()) / (weightvalue.max() - weightvalue.min()) * 3\n",
    ")\n",
    "widsorted = sorted(widths.items(), key=lambda x: x[1], reverse=True)\n",
    "toppair = np.array(list(widths))[weightvalue.argsort() < 3]\n",
    "pos = nx.spring_layout(G, k=0.4, iterations=15, seed=42)\n",
    "\n",
    "nx.draw_networkx_edges(\n",
    "    G,\n",
    "    pos,\n",
    "    edgelist=widths.keys(),\n",
    "    edge_color=list(widths.values()),\n",
    "    width=scaled_weightvalue,\n",
    "    edge_cmap=mpl.colormaps[\"cool\"],\n",
    "    alpha=1,\n",
    ")\n",
    "\n",
    "nx.draw_networkx_labels(G, pos, font_size=15, font_family=\"sans-serif\")\n",
    "\n",
    "# edge weight labels\n",
    "edge_labels = {widsorted[i][0]: f\"rank{i + 1}\" for i in range(5)}\n",
    "nx.draw_networkx_edge_labels(G, pos, edge_labels, font_size=10)\n",
    "\n",
    "ax = plt.gca()\n",
    "ax.margins(0.08)\n",
    "plt.axis(\"off\")\n",
    "plt.tight_layout()\n",
    "rcParams[\"pdf.fonttype\"] = 42\n",
    "rcParams[\"ps.fonttype\"] = 42\n",
    "plt.savefig(\"genemodule.png\", bbox_inches=\"tight\", dpi=300)"
   ]
  },
  {
   "cell_type": "code",
   "execution_count": null,
   "id": "fa01732c",
   "metadata": {},
   "outputs": [],
   "source": []
  }
 ],
 "metadata": {
  "kernelspec": {
   "display_name": "scphd",
   "language": "python",
   "name": "python3"
  },
  "language_info": {
   "codemirror_mode": {
    "name": "ipython",
    "version": 3
   },
   "file_extension": ".py",
   "mimetype": "text/x-python",
   "name": "python",
   "nbconvert_exporter": "python",
   "pygments_lexer": "ipython3",
   "version": "3.10.16"
  }
 },
 "nbformat": 4,
 "nbformat_minor": 5
}
